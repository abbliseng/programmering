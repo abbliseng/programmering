{
 "cells": [
  {
   "cell_type": "markdown",
   "metadata": {
    "colab_type": "text",
    "id": "8uagM-mbtFTB"
   },
   "source": [
    "Testa själv kod"
   ]
  },
  {
   "cell_type": "code",
   "execution_count": 0,
   "metadata": {
    "colab": {},
    "colab_type": "code",
    "id": "iDwCXvZVtFTG"
   },
   "outputs": [],
   "source": [
    "# For Python 2 / 3 compatability\n",
    "from __future__ import print_function"
   ]
  },
  {
   "cell_type": "code",
   "execution_count": 0,
   "metadata": {
    "colab": {},
    "colab_type": "code",
    "id": "1lZYnMwYtFTS"
   },
   "outputs": [],
   "source": [
    "training_data = [\n",
    "    [70, 19.8,'Klassrum'],\n",
    "    [54.4, 14.4, 'Kylrum'],\n",
    "    [45.4, 12.4, 'Kylrum'],\n",
    "    [89.4, 19.5, 'Klassrum'],\n",
    "    [57.4, 18.1, 'Lärarrum'],\n",
    "     [22.4, 8.6, 'Kylrum'],\n",
    "    [24.4, 11.24, 'Kylrum'],\n",
    "    [84.4, 24.4, 'Klassrum'],\n",
    "    [95.4, 22.4, 'Klassrum'],\n",
    "    [81.4, 20.1, 'Lärarrum'],\n",
    "    [70, 19.7, 'Lärarrum'],\n",
    "]"
   ]
  },
  {
   "cell_type": "code",
   "execution_count": 0,
   "metadata": {
    "colab": {},
    "colab_type": "code",
    "id": "WJJlPP30tFTe"
   },
   "outputs": [],
   "source": [
    "# Column labels.\n",
    "# These are used only to print the tree.\n",
    "header = [\"Humidity\", \"Heat\", \"label\"]"
   ]
  },
  {
   "cell_type": "code",
   "execution_count": 0,
   "metadata": {
    "colab": {},
    "colab_type": "code",
    "id": "dkaBTMDctFUA"
   },
   "outputs": [],
   "source": [
    "def unique_vals(rows, col):\n",
    "    \"\"\"Find the unique values for a column in a dataset.\"\"\"\n",
    "    return set([row[col] for row in rows])"
   ]
  },
  {
   "cell_type": "code",
   "execution_count": 0,
   "metadata": {
    "colab": {},
    "colab_type": "code",
    "id": "IkoV9XBXtFUE",
    "outputId": "22849387-0303-48ed-cf3e-f8cbbc1b9120"
   },
   "outputs": [
    {
     "data": {
      "text/plain": [
       "{'Klassrum', 'Kylrum', 'Lärarrum'}"
      ]
     },
     "execution_count": 6,
     "metadata": {
      "tags": []
     },
     "output_type": "execute_result"
    }
   ],
   "source": [
    "unique_vals(training_data, 2)"
   ]
  },
  {
   "cell_type": "code",
   "execution_count": 0,
   "metadata": {
    "colab": {},
    "colab_type": "code",
    "id": "VlLaUFSGtFUR"
   },
   "outputs": [],
   "source": [
    "def class_counts(rows):\n",
    "    \"\"\"Counts the number of each type of example in a dataset.\"\"\"\n",
    "    counts = {}  # a dictionary of label -> count.\n",
    "    for row in rows:\n",
    "        # in our dataset format, the label is always the last column\n",
    "        label = row[-1]\n",
    "        if label not in counts:\n",
    "            counts[label] = 0\n",
    "        counts[label] += 1\n",
    "    return counts"
   ]
  },
  {
   "cell_type": "code",
   "execution_count": 0,
   "metadata": {
    "colab": {},
    "colab_type": "code",
    "id": "cvu5gNREtFUW",
    "outputId": "47eb4be1-41a0-4ded-c90a-0c70c0002990"
   },
   "outputs": [
    {
     "data": {
      "text/plain": [
       "{'Klassrum': 4, 'Kylrum': 4, 'Lärarrum': 3}"
      ]
     },
     "execution_count": 8,
     "metadata": {
      "tags": []
     },
     "output_type": "execute_result"
    }
   ],
   "source": [
    "class_counts(training_data)"
   ]
  },
  {
   "cell_type": "code",
   "execution_count": 0,
   "metadata": {
    "colab": {},
    "colab_type": "code",
    "id": "YifPGtljtFUf"
   },
   "outputs": [],
   "source": [
    "def is_numeric(value):\n",
    "    \"\"\"Test if a value is numeric.\"\"\"\n",
    "    return isinstance(value, int) or isinstance(value, float)"
   ]
  },
  {
   "cell_type": "code",
   "execution_count": 0,
   "metadata": {
    "colab": {},
    "colab_type": "code",
    "id": "kgW9DsDhtFUl"
   },
   "outputs": [],
   "source": [
    "class Question:\n",
    "    \"\"\"A Question is used to partition a dataset.\n",
    "\n",
    "    This class just records a 'column number' (e.g., 0 for Color) and a\n",
    "    'column value' (e.g., Green). The 'match' method is used to compare\n",
    "    the feature value in an example to the feature value stored in the\n",
    "    question. See the demo below.\n",
    "    \"\"\"\n",
    "\n",
    "    def __init__(self, column, value):\n",
    "        self.column = column\n",
    "        self.value = value\n",
    "\n",
    "    def match(self, example):\n",
    "        # Compare the feature value in an example to the\n",
    "        # feature value in this question.\n",
    "        val = example[self.column]\n",
    "        if is_numeric(val):\n",
    "            return val >= self.value\n",
    "        else:\n",
    "            return val == self.value\n",
    "        #Nya metoden, tittar så det är ett nummer man skickar in returnerar true om det är större än frågans värde och false om det är mindre.\n",
    "    def moreless(self, val):\n",
    "        if is_numeric(val):\n",
    "            return val >= self.value\n",
    "        else:\n",
    "            return val <= self.value\n",
    "\n",
    "    def __repr__(self):\n",
    "        # This is just a helper method to print\n",
    "        # the question in a readable format.\n",
    "        condition = \"==\"\n",
    "        if is_numeric(self.value):\n",
    "            condition = \">=\"\n",
    "        return \"Is %s %s %s?\" % (\n",
    "            header[self.column], condition, str(self.value))"
   ]
  },
  {
   "cell_type": "code",
   "execution_count": 0,
   "metadata": {
    "colab": {},
    "colab_type": "code",
    "id": "Su4P5UeWtFUq",
    "outputId": "489263a9-fc83-4851-e7dc-7fa7977be356"
   },
   "outputs": [
    {
     "data": {
      "text/plain": [
       "Is Heat >= 19.8?"
      ]
     },
     "execution_count": 11,
     "metadata": {
      "tags": []
     },
     "output_type": "execute_result"
    }
   ],
   "source": [
    "# Skapar en fråga där vi säger är värmen  större eller mindre än vårt värde [0][1] alltså rad 0 värde 1 alltså 14.4\n",
    "q = Question(1, training_data[0][1])\n",
    "q"
   ]
  },
  {
   "cell_type": "code",
   "execution_count": 0,
   "metadata": {
    "colab": {},
    "colab_type": "code",
    "id": "4fPXWQ5stFUy",
    "outputId": "69e59add-450c-4508-9a54-3a223e3e6589"
   },
   "outputs": [
    {
     "data": {
      "text/plain": [
       "False"
      ]
     },
     "execution_count": 12,
     "metadata": {
      "tags": []
     },
     "output_type": "execute_result"
    }
   ],
   "source": [
    "\n",
    "example = 11#sätter 11 och kollar om det är mer eller mindre än valt värde\n",
    "q.moreless(example)"
   ]
  },
  {
   "cell_type": "code",
   "execution_count": 0,
   "metadata": {
    "colab": {},
    "colab_type": "code",
    "id": "lOu4jtQAtFU4"
   },
   "outputs": [],
   "source": [
    "def partition(rows, question):\n",
    "    \"\"\"Partitions a dataset.\n",
    "\n",
    "    For each row in the dataset, check if it matches the question. If\n",
    "    so, add it to 'true rows', otherwise, add it to 'false rows'.\n",
    "    \"\"\"\n",
    "    true_rows, false_rows = [], []\n",
    "    for row in rows:\n",
    "        if question.match(row):\n",
    "            true_rows.append(row)\n",
    "        else:\n",
    "            false_rows.append(row)\n",
    "    return true_rows, false_rows\n",
    "\n",
    "def partitionMoreLess(rows, question):\n",
    "    \"\"\"Partitions a dataset.\n",
    "\n",
    "    For each row in the dataset, check if it matches the question. If\n",
    "    so, add it to 'true rows', otherwise, add it to 'false rows'.\n",
    "    \"\"\"\n",
    "    true_rows, false_rows = [], []\n",
    "    for row in rows:\n",
    "#         print(row,question.column)\n",
    "        if question.moreless(row[question.column]):\n",
    "            true_rows.append(row)\n",
    "        else:\n",
    "            false_rows.append(row)\n",
    "    return true_rows, false_rows"
   ]
  },
  {
   "cell_type": "code",
   "execution_count": 0,
   "metadata": {
    "colab": {},
    "colab_type": "code",
    "id": "wx1vM6k0tFU_",
    "outputId": "17be3abf-717d-4eec-dae5-eb50eb45c4aa"
   },
   "outputs": [
    {
     "data": {
      "text/plain": [
       "[[84.4, 24.4, 'Klassrum'], [95.4, 22.4, 'Klassrum'], [81.4, 20.1, 'Lärarrum']]"
      ]
     },
     "execution_count": 14,
     "metadata": {
      "tags": []
     },
     "output_type": "execute_result"
    }
   ],
   "source": [
    "true_rows, false_rows = partitionMoreLess(training_data, Question(1, 20)) #kolumn 1 (Heat),över 20 grader\n",
    "true_rows"
   ]
  },
  {
   "cell_type": "code",
   "execution_count": 0,
   "metadata": {
    "colab": {},
    "colab_type": "code",
    "id": "FK4BSvaItFVG",
    "outputId": "b7fe5566-b834-425d-fe29-bb30bc42db9f"
   },
   "outputs": [
    {
     "data": {
      "text/plain": [
       "[[70, 19.8, 'Klassrum'],\n",
       " [54.4, 14.4, 'Kylrum'],\n",
       " [45.4, 12.4, 'Kylrum'],\n",
       " [89.4, 19.5, 'Klassrum'],\n",
       " [57.4, 18.1, 'Lärarrum'],\n",
       " [22.4, 8.6, 'Kylrum'],\n",
       " [24.4, 11.24, 'Kylrum'],\n",
       " [70, 19.7, 'Lärarrum']]"
      ]
     },
     "execution_count": 15,
     "metadata": {
      "tags": []
     },
     "output_type": "execute_result"
    }
   ],
   "source": [
    "false_rows"
   ]
  },
  {
   "cell_type": "code",
   "execution_count": 0,
   "metadata": {
    "colab": {},
    "colab_type": "code",
    "id": "zcIn4K5ctFVQ"
   },
   "outputs": [],
   "source": [
    "def gini(rows):\n",
    "    \"\"\"Calculate the Gini Impurity for a list of rows.\n",
    "\n",
    "    There are a few different ways to do this, I thought this one was\n",
    "    the most concise. See:\n",
    "    https://en.wikipedia.org/wiki/Decision_tree_learning#Gini_impurity\n",
    "    \"\"\"\n",
    "    counts = class_counts(rows)\n",
    "    impurity = 1\n",
    "    for lbl in counts:\n",
    "        prob_of_lbl = counts[lbl] / float(len(rows))\n",
    "        impurity -= prob_of_lbl**2\n",
    "    return impurity"
   ]
  },
  {
   "cell_type": "code",
   "execution_count": 0,
   "metadata": {
    "colab": {},
    "colab_type": "code",
    "id": "Mumee8N6tFVX"
   },
   "outputs": [],
   "source": [
    "def info_gain(left, right, current_uncertainty):\n",
    "    \"\"\"Information Gain.\n",
    "\n",
    "    The uncertainty of the starting node, minus the weighted impurity of\n",
    "    two child nodes.\n",
    "    \"\"\"\n",
    "    p = float(len(left)) / (len(left) + len(right))\n",
    "    return current_uncertainty - p * gini(left) - (1 - p) * gini(right)"
   ]
  },
  {
   "cell_type": "code",
   "execution_count": 0,
   "metadata": {
    "colab": {},
    "colab_type": "code",
    "id": "GT7uyryktFVh",
    "outputId": "e26fecf5-3cbb-47ac-f3f2-d1780b88abab"
   },
   "outputs": [
    {
     "data": {
      "text/plain": [
       "0.6611570247933884"
      ]
     },
     "execution_count": 18,
     "metadata": {
      "tags": []
     },
     "output_type": "execute_result"
    }
   ],
   "source": [
    "current_uncertainty = gini(training_data)\n",
    "current_uncertainty"
   ]
  },
  {
   "cell_type": "code",
   "execution_count": 0,
   "metadata": {
    "colab": {},
    "colab_type": "code",
    "id": "yWnrevastFVl",
    "outputId": "56e5792b-378b-403f-8b53-e577b67fecfd"
   },
   "outputs": [
    {
     "data": {
      "text/plain": [
       "0.08539944903581265"
      ]
     },
     "execution_count": 19,
     "metadata": {
      "tags": []
     },
     "output_type": "execute_result"
    }
   ],
   "source": [
    "# How much information do we gain by partioning on 20 heat?\n",
    "true_rows, false_rows = partitionMoreLess(training_data, Question(1, 20))\n",
    "info_gain(true_rows, false_rows, current_uncertainty)"
   ]
  },
  {
   "cell_type": "code",
   "execution_count": 0,
   "metadata": {
    "colab": {},
    "colab_type": "code",
    "id": "sNVRBapstFVv",
    "outputId": "4bcd83f6-7717-46a0-eb3c-a4a30cac01a5"
   },
   "outputs": [
    {
     "data": {
      "text/plain": [
       "0.2975206611570248"
      ]
     },
     "execution_count": 20,
     "metadata": {
      "tags": []
     },
     "output_type": "execute_result"
    }
   ],
   "source": [
    "# How much information do we gain by partioning on labeln kylrum?\n",
    "true_rows, false_rows = partitionMoreLess(training_data, Question(2, \"Kylrum\"))\n",
    "info_gain(true_rows, false_rows, current_uncertainty)"
   ]
  },
  {
   "cell_type": "code",
   "execution_count": 0,
   "metadata": {
    "colab": {},
    "colab_type": "code",
    "id": "wNCTiYrrtFV3"
   },
   "outputs": [],
   "source": [
    "def find_best_split(rows):\n",
    "    \"\"\"Find the best question to ask by iterating over every feature / value\n",
    "    and calculating the information gain.\"\"\"\n",
    "    best_gain = 0  # keep track of the best information gain\n",
    "    best_question = None  # keep train of the feature / value that produced it\n",
    "    current_uncertainty = gini(rows)\n",
    "    n_features = len(rows[0]) - 1  # number of columns\n",
    "\n",
    "    for col in range(n_features):  # for each feature\n",
    "\n",
    "        values = set([row[col] for row in rows])  # unique values in the column\n",
    "\n",
    "        for val in values:  # for each value\n",
    "\n",
    "            question = Question(col, val)\n",
    "\n",
    "            # try splitting the dataset\n",
    "            true_rows, false_rows = partitionMoreLess(rows, question)\n",
    "\n",
    "            # Skip this split if it doesn't divide the\n",
    "            # dataset.\n",
    "            if len(true_rows) == 0 or len(false_rows) == 0:\n",
    "                continue\n",
    "\n",
    "            # Calculate the information gain from this split\n",
    "            gain = info_gain(true_rows, false_rows, current_uncertainty)\n",
    "\n",
    "            # You actually can use '>' instead of '>=' here\n",
    "            # but I wanted the tree to look a certain way for our\n",
    "            # toy dataset.\n",
    "            if gain >= best_gain:\n",
    "                best_gain, best_question = gain, question\n",
    "\n",
    "    return best_gain, best_question"
   ]
  },
  {
   "cell_type": "code",
   "execution_count": 0,
   "metadata": {
    "colab": {},
    "colab_type": "code",
    "id": "eUV8ldSctFV9",
    "outputId": "0b2ee5db-efdb-4eef-cd75-1cbd08ad7926"
   },
   "outputs": [
    {
     "data": {
      "text/plain": [
       "Is Heat >= 18.1?"
      ]
     },
     "execution_count": 22,
     "metadata": {
      "tags": []
     },
     "output_type": "execute_result"
    }
   ],
   "source": [
    "# Find the best question to ask first for our toy dataset.\n",
    "best_gain, best_question = find_best_split(training_data)\n",
    "best_question\n"
   ]
  },
  {
   "cell_type": "code",
   "execution_count": 0,
   "metadata": {
    "colab": {},
    "colab_type": "code",
    "id": "aCnDdPhetFWD"
   },
   "outputs": [],
   "source": [
    "class Leaf:\n",
    "    \"\"\"A Leaf node classifies data.\n",
    "\n",
    "    This holds a dictionary of class (e.g., \"Apple\") -> number of times\n",
    "    it appears in the rows from the training data that reach this leaf.\n",
    "    \"\"\"\n",
    "\n",
    "    def __init__(self, rows):\n",
    "        self.predictions = class_counts(rows)"
   ]
  },
  {
   "cell_type": "code",
   "execution_count": 0,
   "metadata": {
    "colab": {},
    "colab_type": "code",
    "id": "fMrXuUHltFWI"
   },
   "outputs": [],
   "source": [
    "class Decision_Node:\n",
    "    \"\"\"A Decision Node asks a question.\n",
    "\n",
    "    This holds a reference to the question, and to the two child nodes.\n",
    "    \"\"\"\n",
    "\n",
    "    def __init__(self,\n",
    "                 question,\n",
    "                 true_branch,\n",
    "                 false_branch):\n",
    "        self.question = question\n",
    "        self.true_branch = true_branch\n",
    "        self.false_branch = false_branch"
   ]
  },
  {
   "cell_type": "code",
   "execution_count": 0,
   "metadata": {
    "colab": {},
    "colab_type": "code",
    "id": "GZuY4KRDtFWL"
   },
   "outputs": [],
   "source": [
    "def build_tree(rows):\n",
    "    \"\"\"Builds the tree.\n",
    "\n",
    "    Rules of recursion: 1) Believe that it works. 2) Start by checking\n",
    "    for the base case (no further information gain). 3) Prepare for\n",
    "    giant stack traces.\n",
    "    \"\"\"\n",
    "\n",
    "    # Try partitioing the dataset on each of the unique attribute,\n",
    "    # calculate the information gain,\n",
    "    # and return the question that produces the highest gain.\n",
    "    gain, question = find_best_split(rows)\n",
    "\n",
    "    # Base case: no further info gain\n",
    "    # Since we can ask no further questions,\n",
    "    # we'll return a leaf.\n",
    "    if gain == 0:\n",
    "        return Leaf(rows)\n",
    "\n",
    "    # If we reach here, we have found a useful feature / value\n",
    "    # to partition on.\n",
    "    true_rows, false_rows = partition(rows, question)\n",
    "\n",
    "    # Recursively build the true branch.\n",
    "    true_branch = build_tree(true_rows)\n",
    "\n",
    "    # Recursively build the false branch.\n",
    "    false_branch = build_tree(false_rows)\n",
    "\n",
    "    # Return a Question node.\n",
    "    # This records the best feature / value to ask at this point,\n",
    "    # as well as the branches to follow\n",
    "    # dependingo on the answer.\n",
    "    return Decision_Node(question, true_branch, false_branch)"
   ]
  },
  {
   "cell_type": "code",
   "execution_count": 0,
   "metadata": {
    "colab": {},
    "colab_type": "code",
    "id": "KQoed3P3tFWR"
   },
   "outputs": [],
   "source": [
    "def print_tree(node, spacing=\"\"):\n",
    "    \"\"\"World's most elegant tree printing function.\"\"\"\n",
    "\n",
    "    # Base case: we've reached a leaf\n",
    "    if isinstance(node, Leaf):\n",
    "        print (spacing + \"Predict\", node.predictions)\n",
    "        return\n",
    "\n",
    "    # Print the question at this node\n",
    "    print (spacing + str(node.question))\n",
    "\n",
    "    # Call this function recursively on the true branch\n",
    "    print (spacing + '--> True:')\n",
    "    print_tree(node.true_branch, spacing + \"  \")\n",
    "\n",
    "    # Call this function recursively on the false branch\n",
    "    print (spacing + '--> False:')\n",
    "    print_tree(node.false_branch, spacing + \"  \")"
   ]
  },
  {
   "cell_type": "code",
   "execution_count": 0,
   "metadata": {
    "colab": {},
    "colab_type": "code",
    "id": "CfwompGQtFWU"
   },
   "outputs": [],
   "source": [
    "my_tree = build_tree(training_data)"
   ]
  },
  {
   "cell_type": "code",
   "execution_count": 0,
   "metadata": {
    "colab": {},
    "colab_type": "code",
    "id": "_uMeB2RqtFWZ",
    "outputId": "7b0486ad-0518-455a-c9b2-99e27656e608"
   },
   "outputs": [
    {
     "name": "stdout",
     "output_type": "stream",
     "text": [
      "Is Heat >= 18.1?\n",
      "--> True:\n",
      "  Is Humidity >= 84.4?\n",
      "  --> True:\n",
      "    Predict {'Klassrum': 3}\n",
      "  --> False:\n",
      "    Is Heat >= 19.8?\n",
      "    --> True:\n",
      "      Is Heat >= 20.1?\n",
      "      --> True:\n",
      "        Predict {'Lärarrum': 1}\n",
      "      --> False:\n",
      "        Predict {'Klassrum': 1}\n",
      "    --> False:\n",
      "      Predict {'Lärarrum': 2}\n",
      "--> False:\n",
      "  Predict {'Kylrum': 4}\n"
     ]
    }
   ],
   "source": [
    "print_tree(my_tree)"
   ]
  },
  {
   "cell_type": "code",
   "execution_count": 0,
   "metadata": {
    "colab": {},
    "colab_type": "code",
    "id": "8Fce4hJ3tFWm"
   },
   "outputs": [],
   "source": [
    "def classify(row, node):\n",
    "    \"\"\"See the 'rules of recursion' above.\"\"\"\n",
    "\n",
    "    # Base case: we've reached a leaf\n",
    "    if isinstance(node, Leaf):\n",
    "        return node.predictions\n",
    "\n",
    "    # Decide whether to follow the true-branch or the false-branch.\n",
    "    # Compare the feature / value stored in the node,\n",
    "    # to the example we're considering.\n",
    "    if node.question.match(row):\n",
    "        return classify(row, node.true_branch)\n",
    "    else:\n",
    "        return classify(row, node.false_branch)"
   ]
  },
  {
   "cell_type": "code",
   "execution_count": 0,
   "metadata": {
    "colab": {},
    "colab_type": "code",
    "id": "2ynWxwbltFWp",
    "outputId": "de696d52-d062-4442-fa27-1a0ecec853ac"
   },
   "outputs": [
    {
     "data": {
      "text/plain": [
       "{'Lärarrum': 2}"
      ]
     },
     "execution_count": 30,
     "metadata": {
      "tags": []
     },
     "output_type": "execute_result"
    }
   ],
   "source": [
    "#######\n",
    "# Demo:\n",
    "# The tree predicts the 1st row of our\n",
    "# training data is an apple with confidence 1.\n",
    "classify(training_data[4], my_tree)\n",
    "#######"
   ]
  },
  {
   "cell_type": "code",
   "execution_count": 0,
   "metadata": {
    "colab": {},
    "colab_type": "code",
    "id": "MhC0k0OdtFW0"
   },
   "outputs": [],
   "source": [
    "def print_leaf(counts):\n",
    "    \"\"\"A nicer way to print the predictions at a leaf.\"\"\"\n",
    "    total = sum(counts.values()) * 1.0\n",
    "    probs = {}\n",
    "    for lbl in counts.keys():\n",
    "        probs[lbl] = str(int(counts[lbl] / total * 100)) + \"%\"\n",
    "    return probs"
   ]
  },
  {
   "cell_type": "code",
   "execution_count": 0,
   "metadata": {
    "colab": {},
    "colab_type": "code",
    "id": "MO0tYO4ktFW5",
    "outputId": "91398ee3-22cb-4c33-cce1-73863e2957a8"
   },
   "outputs": [
    {
     "data": {
      "text/plain": [
       "{'Klassrum': '100%'}"
      ]
     },
     "execution_count": 32,
     "metadata": {
      "tags": []
     },
     "output_type": "execute_result"
    }
   ],
   "source": [
    "#######\n",
    "# Demo:\n",
    "# Printing that a bit nicer\n",
    "print_leaf(classify(training_data[0], my_tree))\n",
    "#######"
   ]
  },
  {
   "cell_type": "code",
   "execution_count": 0,
   "metadata": {
    "colab": {},
    "colab_type": "code",
    "id": "1b4KHTcitFXC",
    "outputId": "219aad23-476a-4426-faa9-772759491acb"
   },
   "outputs": [
    {
     "data": {
      "text/plain": [
       "{'Klassrum': '100%'}"
      ]
     },
     "execution_count": 33,
     "metadata": {
      "tags": []
     },
     "output_type": "execute_result"
    }
   ],
   "source": [
    "#######\n",
    "# Demo:\n",
    "# On the second example, the confidence is lower\n",
    "print_leaf(classify(training_data[8], my_tree))\n",
    "#######"
   ]
  },
  {
   "cell_type": "code",
   "execution_count": 0,
   "metadata": {
    "colab": {},
    "colab_type": "code",
    "id": "O51_51oFtFXG"
   },
   "outputs": [],
   "source": [
    "# Evaluate\n",
    "testing_data = [\n",
    "    [30, 15.6, 'Kylrum'],\n",
    "    [50, 16, 'Klassrum'],\n",
    "    [89, 21, 'Klassrum'],\n",
    "    [81.7, 19, 'Lärarrum'],\n",
    "    [87, 19.8, 'Lärarrum'],\n",
    "]"
   ]
  },
  {
   "cell_type": "code",
   "execution_count": 0,
   "metadata": {
    "colab": {},
    "colab_type": "code",
    "id": "5EwsrAJ_tFXJ",
    "outputId": "967410c4-a6f0-4279-b417-0ad834c8f472"
   },
   "outputs": [
    {
     "name": "stdout",
     "output_type": "stream",
     "text": [
      "Actual: Kylrum. Predicted: {'Kylrum': '100%'}\n",
      "Actual: Klassrum. Predicted: {'Kylrum': '100%'}\n",
      "Actual: Klassrum. Predicted: {'Klassrum': '100%'}\n",
      "Actual: Lärarrum. Predicted: {'Lärarrum': '100%'}\n",
      "Actual: Lärarrum. Predicted: {'Klassrum': '100%'}\n"
     ]
    }
   ],
   "source": [
    "for row in testing_data:\n",
    "    print (\"Actual: %s. Predicted: %s\" %\n",
    "           (row[-1], print_leaf(classify(row, my_tree))))"
   ]
  },
  {
   "cell_type": "code",
   "execution_count": 2,
   "metadata": {
    "colab": {
     "base_uri": "https://localhost:8080/",
     "height": 35
    },
    "colab_type": "code",
    "executionInfo": {
     "elapsed": 1415,
     "status": "ok",
     "timestamp": 1591858452391,
     "user": {
      "displayName": "Jocke Flink",
      "photoUrl": "",
      "userId": "09592028922337086551"
     },
     "user_tz": -120
    },
    "id": "yK8wa27xtFXS",
    "outputId": "367cb94e-5d8a-403f-a922-c7b3d1afdead"
   },
   "outputs": [
    {
     "name": "stdout",
     "output_type": "stream",
     "text": [
      "[51.49315317014475, 7.371205662000341, 'Kylrum']\n",
      "[48.607885053979544, 8.277000672032774, 'Kylrum']\n",
      "144\n"
     ]
    }
   ],
   "source": [
    "import random\n",
    "import pandas as pd\n",
    "def Createvalues():\n",
    "    values=[]\n",
    "    mall=[{\"label\":\"Kylrum\",\"minheat\":6.4,\"maxheat\": 14.34,\"minhum\":20,\"maxhum\":56.6},{\"label\":\"Klassrum\",\"minheat\":18.4,\"maxheat\": 24.34,\"minhum\":70,\"maxhum\":96.6},{\"label\":\"Lärarrum\",\"minheat\":17.4,\"maxheat\": 23.65,\"minhum\":65,\"maxhum\":93}]\n",
    "    for typavrum in mall:\n",
    "        antalgånger= random.randint(1,101)\n",
    "        for i in range(0,antalgånger):\n",
    "            nytemp= random.uniform(typavrum[\"minheat\"],typavrum[\"maxheat\"])\n",
    "            nyhum= random.uniform(typavrum[\"minhum\"],typavrum[\"maxhum\"])\n",
    "#             value= {\"hum\":nyhum,\"heat\":nytemp,\"label\":typavrum[\"label\"]}\n",
    "            value= [nyhum,nytemp,typavrum[\"label\"]]\n",
    "            values.append(value)\n",
    "\n",
    "    print(values[0])\n",
    "    print(values[2])\n",
    "    print(len(values))\n",
    "    return values\n",
    "\n",
    "    #List of dictionaries\n",
    "newdata= Createvalues()\n",
    "#Dataframe\n",
    "newvalues=pd.DataFrame(newdata)\n"
   ]
  },
  {
   "cell_type": "code",
   "execution_count": 0,
   "metadata": {
    "colab": {},
    "colab_type": "code",
    "id": "g65SUZ--tFXb",
    "outputId": "1e75b93c-dd7e-4051-ccf6-ff4700395259"
   },
   "outputs": [
    {
     "data": {
      "text/plain": [
       "Lärarrum    94\n",
       "Klassrum    81\n",
       "Kylrum      51\n",
       "Name: 2, dtype: int64"
      ]
     },
     "execution_count": 71,
     "metadata": {
      "tags": []
     },
     "output_type": "execute_result"
    }
   ],
   "source": [
    "# newvalues.info()\n",
    "# newvalues.describe()\n",
    "# newvalues.label.value_counts()\n",
    "newvalues[2].value_counts()\n"
   ]
  },
  {
   "cell_type": "code",
   "execution_count": 0,
   "metadata": {
    "colab": {},
    "colab_type": "code",
    "id": "LbZCAnHDtFXk",
    "outputId": "da321cea-4322-4424-f0d7-8fa03259ac4c"
   },
   "outputs": [
    {
     "name": "stdout",
     "output_type": "stream",
     "text": [
      "           0          1       2\n",
      "0  27.480138  11.488600  Kylrum\n",
      "1  50.726658  12.546429  Kylrum\n",
      "2  34.706800  12.462909  Kylrum\n",
      "3  50.974841   6.503339  Kylrum\n",
      "4  51.791655   7.984066  Kylrum\n",
      "           0          1         2\n",
      "0  51.837641  10.850668    Kylrum\n",
      "1  83.374484  18.135749  Lärarrum\n",
      "2  91.358842  20.430615  Lärarrum\n",
      "3  71.356356  21.421473  Lärarrum\n",
      "4  66.154215  20.657456  Lärarrum\n"
     ]
    }
   ],
   "source": [
    "\n",
    "print(newvalues.head())\n",
    "newvalues = newvalues.sample(frac=1).reset_index(drop=True)\n",
    "print(newvalues.head())\n"
   ]
  },
  {
   "cell_type": "code",
   "execution_count": 0,
   "metadata": {
    "colab": {},
    "colab_type": "code",
    "id": "9C__ijUwtFXn",
    "outputId": "193cb8c8-e843-4bd3-99d0-68417b550674"
   },
   "outputs": [
    {
     "name": "stdout",
     "output_type": "stream",
     "text": [
      "Antal Subsets: 16\n",
      "Antal värden i varje subset: 14\n",
      "             0          1         2\n",
      "210  90.660896  22.279847  Klassrum\n",
      "104  74.562148  23.057564  Lärarrum\n",
      "57   89.862927  24.022765  Klassrum\n",
      "109  29.702667  11.947386    Kylrum\n",
      "33   41.747928  13.159023    Kylrum\n",
      "96   89.387335  22.594111  Klassrum\n",
      "69   72.849973  21.191748  Lärarrum\n",
      "166  81.895612  23.032739  Lärarrum\n",
      "39   89.318984  17.707414  Lärarrum\n",
      "130  86.584808  20.486851  Klassrum\n",
      "144  79.419408  20.729177  Lärarrum\n",
      "164  89.403157  20.420741  Klassrum\n",
      "59   20.783011  12.927199    Kylrum\n",
      "4    66.154215  20.657456  Lärarrum\n"
     ]
    }
   ],
   "source": [
    "def Splitdata(inputdata,n_trees,ownvalue): \n",
    "#     print(len(inputdata),n_trees, ownvalue)\n",
    "    subsets=[]\n",
    "    splitone=inputdata.sample(frac=0.5,random_state=200)\n",
    "    splittwo=inputdata.drop(splitone.index)\n",
    "    if n_trees!=1:\n",
    "        feedback= Splitdata(splitone,n_trees-1,ownvalue+\"a\")\n",
    "        feedback2 =Splitdata(splittwo,n_trees-1,ownvalue+\"b\")\n",
    "        for i in range(0,len(feedback)):\n",
    "#             print(i,\"Len\",len(feedback[i]), n_trees,ownvalue)\n",
    "#             print(i,\"Len\",len(feedback2[i]), n_trees,ownvalue)\n",
    "            subsets.append(feedback[i])\n",
    "            subsets.append(feedback2[i])  \n",
    "        \n",
    "    else:\n",
    "        return [splitone,splittwo]\n",
    "    return subsets\n",
    "\n",
    "Subsets =Splitdata(newvalues,4,\"a\")\n",
    "\n",
    "print(\"Antal Subsets:\",len(Subsets))\n",
    "print(\"Antal värden i varje subset:\",len(Subsets[0]))\n",
    "print(Subsets[0])"
   ]
  },
  {
   "cell_type": "code",
   "execution_count": 0,
   "metadata": {
    "colab": {},
    "colab_type": "code",
    "id": "mIw7cw4MtFXr",
    "outputId": "bd8d5d16-9414-4e86-bfe9-89f5a355cedb"
   },
   "outputs": [
    {
     "name": "stdout",
     "output_type": "stream",
     "text": [
      "Träd 1\n",
      "Is Humidity >= 89.38733524559632?\n",
      "--> True:\n",
      "  Predict {'Klassrum': 4}\n",
      "--> False:\n",
      "  Is Heat >= 17.707414158920518?\n",
      "  --> True:\n",
      "    Is Heat >= 20.657456104986977?\n",
      "    --> True:\n",
      "      Predict {'Lärarrum': 5}\n",
      "    --> False:\n",
      "      Is Heat >= 20.486850508748283?\n",
      "      --> True:\n",
      "        Predict {'Klassrum': 1}\n",
      "      --> False:\n",
      "        Predict {'Lärarrum': 1}\n",
      "  --> False:\n",
      "    Predict {'Kylrum': 3}\n",
      "Träd 2\n",
      "Is Heat >= 17.776743275180706?\n",
      "--> True:\n",
      "  Is Humidity >= 70.02971476252495?\n",
      "  --> True:\n",
      "    Is Humidity >= 90.39428407446066?\n",
      "    --> True:\n",
      "      Predict {'Klassrum': 3}\n",
      "    --> False:\n",
      "      Is Humidity >= 77.53842477813585?\n",
      "      --> True:\n",
      "        Is Heat >= 21.42762705365352?\n",
      "        --> True:\n",
      "          Is Humidity >= 84.47962386900417?\n",
      "          --> True:\n",
      "            Predict {'Klassrum': 2}\n",
      "          --> False:\n",
      "            Predict {'Lärarrum': 1}\n",
      "        --> False:\n",
      "          Predict {'Lärarrum': 2}\n",
      "      --> False:\n",
      "        Predict {'Klassrum': 2}\n",
      "  --> False:\n",
      "    Predict {'Lärarrum': 2}\n",
      "--> False:\n",
      "  Predict {'Kylrum': 2}\n",
      "Träd 3\n",
      "Is Heat >= 21.135962298011027?\n",
      "--> True:\n",
      "  Predict {'Klassrum': 3}\n",
      "--> False:\n",
      "  Is Heat >= 17.71035242049612?\n",
      "  --> True:\n",
      "    Is Humidity >= 96.31267988780452?\n",
      "    --> True:\n",
      "      Predict {'Klassrum': 1}\n",
      "    --> False:\n",
      "      Predict {'Lärarrum': 8}\n",
      "  --> False:\n",
      "    Predict {'Kylrum': 2}\n",
      "Träd 4\n",
      "Is Heat >= 18.767690061488707?\n",
      "--> True:\n",
      "  Is Humidity >= 72.11784277908704?\n",
      "  --> True:\n",
      "    Is Heat >= 20.891004450030692?\n",
      "    --> True:\n",
      "      Predict {'Klassrum': 6}\n",
      "    --> False:\n",
      "      Is Heat >= 20.2268991795752?\n",
      "      --> True:\n",
      "        Predict {'Lärarrum': 1}\n",
      "      --> False:\n",
      "        Predict {'Klassrum': 3}\n",
      "  --> False:\n",
      "    Predict {'Lärarrum': 1}\n",
      "--> False:\n",
      "  Predict {'Kylrum': 3}\n",
      "Träd 5\n",
      "Is Heat >= 18.68272212455731?\n",
      "--> True:\n",
      "  Is Heat >= 18.956190870795776?\n",
      "  --> True:\n",
      "    Is Heat >= 22.67213347390235?\n",
      "    --> True:\n",
      "      Is Heat >= 23.055103168161615?\n",
      "      --> True:\n",
      "        Predict {'Lärarrum': 1}\n",
      "      --> False:\n",
      "        Predict {'Klassrum': 1}\n",
      "    --> False:\n",
      "      Predict {'Lärarrum': 5}\n",
      "  --> False:\n",
      "    Predict {'Klassrum': 2}\n",
      "--> False:\n",
      "  Predict {'Kylrum': 5}\n",
      "Träd 6\n",
      "Is Heat >= 17.804336272711033?\n",
      "--> True:\n",
      "  Is Humidity >= 72.36649635731091?\n",
      "  --> True:\n",
      "    Is Humidity >= 89.32552779758537?\n",
      "    --> True:\n",
      "      Predict {'Lärarrum': 2}\n",
      "    --> False:\n",
      "      Is Heat >= 20.166834939490084?\n",
      "      --> True:\n",
      "        Predict {'Klassrum': 3}\n",
      "      --> False:\n",
      "        Is Humidity >= 88.65627389328895?\n",
      "        --> True:\n",
      "          Predict {'Klassrum': 1}\n",
      "        --> False:\n",
      "          Predict {'Lärarrum': 2}\n",
      "  --> False:\n",
      "    Predict {'Lärarrum': 3}\n",
      "--> False:\n",
      "  Predict {'Kylrum': 3}\n",
      "Träd 7\n",
      "Is Heat >= 18.481267910472443?\n",
      "--> True:\n",
      "  Is Humidity >= 73.46126145715773?\n",
      "  --> True:\n",
      "    Is Heat >= 21.63631172512966?\n",
      "    --> True:\n",
      "      Predict {'Lärarrum': 1}\n",
      "    --> False:\n",
      "      Predict {'Klassrum': 4}\n",
      "  --> False:\n",
      "    Predict {'Lärarrum': 5}\n",
      "--> False:\n",
      "  Predict {'Kylrum': 4}\n",
      "Träd 8\n",
      "Is Humidity >= 75.80067510977597?\n",
      "--> True:\n",
      "  Is Humidity >= 89.94293962384761?\n",
      "  --> True:\n",
      "    Predict {'Klassrum': 1}\n",
      "  --> False:\n",
      "    Is Heat >= 21.975966788908995?\n",
      "    --> True:\n",
      "      Is Heat >= 22.77614749412106?\n",
      "      --> True:\n",
      "        Predict {'Lärarrum': 2}\n",
      "      --> False:\n",
      "        Predict {'Klassrum': 1}\n",
      "    --> False:\n",
      "      Predict {'Lärarrum': 8}\n",
      "--> False:\n",
      "  Is Heat >= 18.968696419155254?\n",
      "  --> True:\n",
      "    Predict {'Klassrum': 1}\n",
      "  --> False:\n",
      "    Predict {'Kylrum': 1}\n",
      "Träd 9\n",
      "Is Heat >= 17.4203575556069?\n",
      "--> True:\n",
      "  Is Humidity >= 74.52875873936392?\n",
      "  --> True:\n",
      "    Is Heat >= 20.718997239407706?\n",
      "    --> True:\n",
      "      Predict {'Klassrum': 3}\n",
      "    --> False:\n",
      "      Is Heat >= 18.708087422808923?\n",
      "      --> True:\n",
      "        Is Heat >= 20.170882052004703?\n",
      "        --> True:\n",
      "          Predict {'Lärarrum': 1}\n",
      "        --> False:\n",
      "          Predict {'Klassrum': 1}\n",
      "      --> False:\n",
      "        Predict {'Lärarrum': 1}\n",
      "  --> False:\n",
      "    Predict {'Lärarrum': 2}\n",
      "--> False:\n",
      "  Predict {'Kylrum': 6}\n",
      "Träd 10\n",
      "Is Heat >= 19.079316886816343?\n",
      "--> True:\n",
      "  Is Humidity >= 72.55032565169478?\n",
      "  --> True:\n",
      "    Predict {'Klassrum': 5}\n",
      "  --> False:\n",
      "    Predict {'Lärarrum': 3}\n",
      "--> False:\n",
      "  Predict {'Kylrum': 6}\n",
      "Träd 11\n",
      "Is Heat >= 18.58224642732675?\n",
      "--> True:\n",
      "  Is Humidity >= 91.35884192445732?\n",
      "  --> True:\n",
      "    Predict {'Lärarrum': 2}\n",
      "  --> False:\n",
      "    Is Heat >= 21.094139047828236?\n",
      "    --> True:\n",
      "      Is Heat >= 22.000173648206747?\n",
      "      --> True:\n",
      "        Predict {'Klassrum': 3}\n",
      "      --> False:\n",
      "        Predict {'Lärarrum': 2}\n",
      "    --> False:\n",
      "      Predict {'Klassrum': 4}\n",
      "--> False:\n",
      "  Predict {'Kylrum': 3}\n",
      "Träd 12\n",
      "Is Heat >= 17.640143554745382?\n",
      "--> True:\n",
      "  Is Humidity >= 78.35873220072821?\n",
      "  --> True:\n",
      "    Is Heat >= 24.32581869438649?\n",
      "    --> True:\n",
      "      Predict {'Klassrum': 1}\n",
      "    --> False:\n",
      "      Is Heat >= 19.897757888540205?\n",
      "      --> True:\n",
      "        Is Heat >= 21.530264857162123?\n",
      "        --> True:\n",
      "          Predict {'Lärarrum': 2}\n",
      "        --> False:\n",
      "          Predict {'Klassrum': 1}\n",
      "      --> False:\n",
      "        Predict {'Lärarrum': 3}\n",
      "  --> False:\n",
      "    Predict {'Klassrum': 4}\n",
      "--> False:\n",
      "  Predict {'Kylrum': 3}\n",
      "Träd 13\n",
      "Is Heat >= 20.86226972011455?\n",
      "--> True:\n",
      "  Is Heat >= 23.645879077678057?\n",
      "  --> True:\n",
      "    Predict {'Lärarrum': 1}\n",
      "  --> False:\n",
      "    Predict {'Klassrum': 5}\n",
      "--> False:\n",
      "  Is Heat >= 18.47986904874516?\n",
      "  --> True:\n",
      "    Is Humidity >= 80.7431075949327?\n",
      "    --> True:\n",
      "      Is Heat >= 19.73252861185246?\n",
      "      --> True:\n",
      "        Predict {'Lärarrum': 1}\n",
      "      --> False:\n",
      "        Predict {'Klassrum': 1}\n",
      "    --> False:\n",
      "      Predict {'Lärarrum': 4}\n",
      "  --> False:\n",
      "    Predict {'Kylrum': 2}\n",
      "Träd 14\n",
      "Is Heat >= 18.704752242078108?\n",
      "--> True:\n",
      "  Is Heat >= 19.83257540924045?\n",
      "  --> True:\n",
      "    Predict {'Lärarrum': 8}\n",
      "  --> False:\n",
      "    Is Heat >= 19.721900457011845?\n",
      "    --> True:\n",
      "      Predict {'Klassrum': 1}\n",
      "    --> False:\n",
      "      Predict {'Lärarrum': 2}\n",
      "--> False:\n",
      "  Predict {'Kylrum': 3}\n",
      "Träd 15\n",
      "Is Humidity >= 75.68332036907628?\n",
      "--> True:\n",
      "  Is Heat >= 23.360420792286877?\n",
      "  --> True:\n",
      "    Predict {'Klassrum': 1}\n",
      "  --> False:\n",
      "    Is Heat >= 20.21772136451501?\n",
      "    --> True:\n",
      "      Predict {'Lärarrum': 4}\n",
      "    --> False:\n",
      "      Is Heat >= 19.820412815068696?\n",
      "      --> True:\n",
      "        Predict {'Klassrum': 1}\n",
      "      --> False:\n",
      "        Predict {'Lärarrum': 2}\n",
      "--> False:\n",
      "  Is Heat >= 18.408281790792824?\n",
      "  --> True:\n",
      "    Is Humidity >= 72.93952109494143?\n",
      "    --> True:\n",
      "      Predict {'Klassrum': 4}\n",
      "    --> False:\n",
      "      Is Heat >= 22.944030466881763?\n",
      "      --> True:\n",
      "        Predict {'Klassrum': 1}\n",
      "      --> False:\n",
      "        Predict {'Lärarrum': 1}\n",
      "  --> False:\n",
      "    Predict {'Kylrum': 1}\n",
      "Träd 16\n",
      "Is Heat >= 17.620941645472715?\n",
      "--> True:\n",
      "  Is Heat >= 19.473598429221042?\n",
      "  --> True:\n",
      "    Is Heat >= 20.46817857654608?\n",
      "    --> True:\n",
      "      Is Heat >= 23.515843253170765?\n",
      "      --> True:\n",
      "        Predict {'Lärarrum': 1}\n",
      "      --> False:\n",
      "        Is Heat >= 21.856715344368677?\n",
      "        --> True:\n",
      "          Is Heat >= 22.399553135042222?\n",
      "          --> True:\n",
      "            Is Heat >= 23.205502837835667?\n",
      "            --> True:\n",
      "              Predict {'Klassrum': 1}\n",
      "            --> False:\n",
      "              Predict {'Lärarrum': 1}\n",
      "          --> False:\n",
      "            Predict {'Klassrum': 1}\n",
      "        --> False:\n",
      "          Predict {'Lärarrum': 1}\n",
      "    --> False:\n",
      "      Predict {'Klassrum': 4}\n",
      "  --> False:\n",
      "    Predict {'Lärarrum': 2}\n",
      "--> False:\n",
      "  Predict {'Kylrum': 4}\n"
     ]
    }
   ],
   "source": [
    "My_trees=[]\n",
    "i=1\n",
    "for Myset in Subsets:\n",
    "    Mylist= Myset.values.tolist()\n",
    "    print(\"Träd\",i)\n",
    "    i+=1\n",
    "    tree=build_tree(Mylist)\n",
    "    My_trees.append(tree)\n",
    "    print_tree(tree)\n",
    "    \n"
   ]
  },
  {
   "cell_type": "code",
   "execution_count": 0,
   "metadata": {
    "colab": {},
    "colab_type": "code",
    "id": "eNRozI3FtFXv",
    "outputId": "e8ba55e0-f5e8-4a61-8366-f26973d40625",
    "scrolled": true
   },
   "outputs": [
    {
     "name": "stdout",
     "output_type": "stream",
     "text": [
      "Actual: Kylrum Kylrum : 16 / 16\n",
      "Actual: Klassrum Kylrum : 16 / 16\n",
      "Actual: Klassrum Lärarrum : 8 / 16\n",
      "Actual: Lärarrum Lärarrum : 10 / 16\n",
      "Actual: Lärarrum Lärarrum : 9 / 16\n"
     ]
    }
   ],
   "source": [
    "def Predictioncounter(row,trees,labels):\n",
    "    length= len(labels)\n",
    "    predictions=[0 for i in range(length)]\n",
    "    for tree in trees:\n",
    "        prediction= classify(row, tree)\n",
    "        for i in range(length):\n",
    "             if(prediction.get(labels[i])is not None):\n",
    "                predictions[i]+=1\n",
    "#         print (\"Actual: %s. Predicted: %s\" %\n",
    "#                (row[-1], print_leaf(classify(row, tree))))\n",
    "    return predictions\n",
    "\n",
    "def Randomforest(trees,data):\n",
    "    for row in data:\n",
    "        predictions=[0,0,0]\n",
    "        labels=[\"Kylrum\",\"Lärarrum\",\"Klassrum\"]\n",
    "        predictions= Predictioncounter(row,trees,labels)\n",
    "        high=max(predictions)\n",
    "        print(\"Actual:\",row[2],labels[predictions.index(high)],\":\", max(predictions),\"/\",len(trees))\n",
    "                            \n",
    "Randomforest(My_trees,testing_data)"
   ]
  },
  {
   "cell_type": "code",
   "execution_count": 0,
   "metadata": {
    "colab": {},
    "colab_type": "code",
    "id": "dqwefRXOtFX3"
   },
   "outputs": [],
   "source": []
  }
 ],
 "metadata": {
  "colab": {
   "name": "decision_tree-Own med forest.ipynb",
   "provenance": []
  },
  "kernelspec": {
   "display_name": "Python 3",
   "language": "python",
   "name": "python3"
  },
  "language_info": {
   "codemirror_mode": {
    "name": "ipython",
    "version": 3
   },
   "file_extension": ".py",
   "mimetype": "text/x-python",
   "name": "python",
   "nbconvert_exporter": "python",
   "pygments_lexer": "ipython3",
   "version": "3.9.1"
  }
 },
 "nbformat": 4,
 "nbformat_minor": 1
}
